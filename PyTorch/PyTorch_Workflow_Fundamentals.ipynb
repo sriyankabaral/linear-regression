{
  "nbformat": 4,
  "nbformat_minor": 0,
  "metadata": {
    "colab": {
      "provenance": []
    },
    "kernelspec": {
      "name": "python3",
      "display_name": "Python 3"
    },
    "language_info": {
      "name": "python"
    }
  },
  "cells": [
    {
      "cell_type": "markdown",
      "source": [
        "# PyTorch Workflow\n",
        "Let's explore an example PyTorch and end to end workflow.\n",
        "Resources:\n",
        "* Ground trth notebook-https://github.com/mrdbourke/pytorch-deep-learning.git\n",
        "* Book version of notebook -https://www.learnpytorch.io/01pytorch workflow/\n",
        "\n",
        "\n"
      ],
      "metadata": {
        "id": "1_OO3uakjkEn"
      }
    },
    {
      "cell_type": "code",
      "execution_count": 3,
      "metadata": {
        "colab": {
          "base_uri": "https://localhost:8080/"
        },
        "id": "UCPDS5NUiyjC",
        "outputId": "43de554d-87b6-474f-8c65-6d369be36835"
      },
      "outputs": [
        {
          "output_type": "stream",
          "name": "stdout",
          "text": [
            "{1: 'data(prepare and load)', 2: 'build model', 3: 'fitting the model to data (training)', 4: 'making predictions and evalating a model(inference)', 5: 'saving and loading a model', 6: 'putting it all together'}\n"
          ]
        }
      ],
      "source": [
        "what_were_covering={\n",
        "                    1: \"data(prepare and load)\",\n",
        "                    2: \"build model\",\n",
        "                    3: \"fitting the model to data (training)\",\n",
        "                    4: \"making predictions and evalating a model(inference)\",\n",
        "                    5: \"saving and loading a model\",\n",
        "                    6: \"putting it all together\"}\n",
        "print(what_were_covering)\n"
      ]
    },
    {
      "cell_type": "code",
      "source": [
        "import torch\n",
        "from torch import nn #nn contains all of PyTorch basic building blocks of neural netwroks\n",
        "import matplotlib.pyplot as plt\n",
        "\n",
        " #checl PyTorch version\n",
        "torch.__version__"
      ],
      "metadata": {
        "colab": {
          "base_uri": "https://localhost:8080/",
          "height": 36
        },
        "id": "5lN170kOlE0Q",
        "outputId": "fda4635a-6fae-420f-fa1e-54b53343967f"
      },
      "execution_count": 4,
      "outputs": [
        {
          "output_type": "execute_result",
          "data": {
            "text/plain": [
              "'2.5.1+cu121'"
            ],
            "application/vnd.google.colaboratory.intrinsic+json": {
              "type": "string"
            }
          },
          "metadata": {},
          "execution_count": 4
        }
      ]
    },
    {
      "cell_type": "markdown",
      "source": [
        "## 1.Data (preparing and loading)\n",
        " * Excel spreadsheet\n",
        " * Images of any kind\n",
        " * Videos (Youtube has lots of data...)\n",
        " * Audio like songs or podcasts\n",
        " * DNA\n",
        " * Text\n",
        "\n",
        "Machine learning is a game of two part\n",
        "  1. Get data into numerical representations.\n",
        "  2. Build a model to learn patterns in that numerical representations.\n",
        "\n",
        "To showcase this ,let's create some *known* data using the linear regression formula.\n",
        "We'll use a linear regression formula to make a straight line with knows parameters."
      ],
      "metadata": {
        "id": "l0zYdDL9ooR3"
      }
    },
    {
      "cell_type": "code",
      "source": [
        "#Create *known* parameters\n",
        "weight=0.7\n",
        "bias=0.3\n",
        "#Create\n",
        "start =0\n",
        "end=1\n",
        "step=0.02\n",
        "X=torch.arange(start,end,step).unsqueeze(dim=1)\n",
        "y=weight*X+bias\n",
        "X[:10], y[:10]"
      ],
      "metadata": {
        "colab": {
          "base_uri": "https://localhost:8080/"
        },
        "id": "l0vN3fGrnN-k",
        "outputId": "5edcafe2-1280-4441-f156-e2db782e3836"
      },
      "execution_count": 5,
      "outputs": [
        {
          "output_type": "execute_result",
          "data": {
            "text/plain": [
              "(tensor([[0.0000],\n",
              "         [0.0200],\n",
              "         [0.0400],\n",
              "         [0.0600],\n",
              "         [0.0800],\n",
              "         [0.1000],\n",
              "         [0.1200],\n",
              "         [0.1400],\n",
              "         [0.1600],\n",
              "         [0.1800]]),\n",
              " tensor([[0.3000],\n",
              "         [0.3140],\n",
              "         [0.3280],\n",
              "         [0.3420],\n",
              "         [0.3560],\n",
              "         [0.3700],\n",
              "         [0.3840],\n",
              "         [0.3980],\n",
              "         [0.4120],\n",
              "         [0.4260]]))"
            ]
          },
          "metadata": {},
          "execution_count": 5
        }
      ]
    },
    {
      "cell_type": "markdown",
      "source": [
        "### Splitting the data into training and test sets(one of the most important concepts in machine learing in general)\n",
        "\n",
        "Let's create a training and test set with our data ."
      ],
      "metadata": {
        "id": "TZsietImr3zw"
      }
    },
    {
      "cell_type": "code",
      "source": [
        "# Create a train/test split\n",
        "train_split=int(0.8*len(X))\n",
        "X_train,y_train=X[:train_split],y[:train_split]\n",
        "X_test,y_test=X[train_split:], y[train_split:]\n",
        "len(X_train),len(y_train),len(X_test),len(y_test)"
      ],
      "metadata": {
        "colab": {
          "base_uri": "https://localhost:8080/"
        },
        "id": "v_7a33KstLKF",
        "outputId": "be99b6a3-d4b7-4e77-fa86-4d346bf86a0b"
      },
      "execution_count": 6,
      "outputs": [
        {
          "output_type": "execute_result",
          "data": {
            "text/plain": [
              "(40, 40, 10, 10)"
            ]
          },
          "metadata": {},
          "execution_count": 6
        }
      ]
    },
    {
      "cell_type": "markdown",
      "source": [
        "How might we better visualize our data?\n",
        "\n",
        "This is where the data explore's motto comes in!\n",
        "\n",
        "\"Visualize ,visualize,visualize!\"\n"
      ],
      "metadata": {
        "id": "oogOC0DmvJgc"
      }
    },
    {
      "cell_type": "code",
      "source": [
        "def plot_predictions(train_data=X_train,\n",
        "                     train_labels=y_train,\n",
        "                     test_data=X_test,\n",
        "                     test_labels=y_test,\n",
        "                     predictions=None):\n",
        "  \"\"\"\n",
        "  plots training data,test data and compares predictions.\"\"\"\n",
        "  plt.figure(figsize=(10,7))\n",
        "  #Plot training data in blue\n",
        "  plt.scatter(train_data,train_labels,c=\"b\",s=4,label=\"Training_data\")\n",
        "  #Plot test data in green\n",
        "  plt.scatter(test_data,test_labels,c=\"g\",s=4,label=\"Testing data\")\n",
        "  #Are there predictions?\n",
        "  if predictions is not None:\n",
        "    #Plot the predictions if they exist\n",
        "    plt.scatter(test_data,predictions,c=\"r\",s=4,label=\"Predictions\")\n",
        "  #show the legend\n",
        "  plt.legend(prop={\"size\":14});\n",
        "\n"
      ],
      "metadata": {
        "id": "sFFAtmJqyVep"
      },
      "execution_count": 7,
      "outputs": []
    },
    {
      "cell_type": "code",
      "source": [
        "plot_predictions();\n"
      ],
      "metadata": {
        "colab": {
          "base_uri": "https://localhost:8080/",
          "height": 599
        },
        "id": "_f0nWZ4bsxJ3",
        "outputId": "f14bfea6-84a4-470f-fff8-4034ebf792f5"
      },
      "execution_count": 8,
      "outputs": [
        {
          "output_type": "display_data",
          "data": {
            "text/plain": [
              "<Figure size 1000x700 with 1 Axes>"
            ],
            "image/png": "[encoded data removed]"
          },
          "metadata": {}
        }
      ]
    },
    {
      "cell_type": "markdown",
      "source": [
        "## 2.Build model\n",
        "our first PyTorch model!\n",
        "This is very exciting....let's do it\n",
        "What our model does:\n",
        "* Start with random values(weight & bias)\n",
        "* Look at training data and adjust the random values to better represent (or get closer to) the ideal values (the weight & bias values we used to create the data)\n",
        "\n",
        "How does it do so?\n",
        "\n",
        "Through two main algorithms:\n",
        "\n",
        "1.Gradient descent\n",
        "\n",
        "2.Back propogation"
      ],
      "metadata": {
        "id": "U5yt8Lk0torH"
      }
    },
    {
      "cell_type": "code",
      "source": [
        "from torch import nn\n",
        "#Create linear regression model class\n",
        "class LinearRegressionModel(nn.Module):#<-almost everything in PyTorch model\n",
        "  def __init__(self):\n",
        "   super().__init__()\n",
        "   self.weights=nn.Parameter(torch.randn(1,requires_grad=True,dtype=torch.float))\n",
        "   self.bias=nn.Parameter(torch.randn(1,requires_grad=True,dtype=torch.float))\n",
        "   #Forward method to define the computation in the model\n",
        "  def forward(self,x:torch.Tensor)->torch.Tensor:#<-\"x\" is the input data\n",
        "   return self.weights*x+self.bias# this is the linear regression formula\n"
      ],
      "metadata": {
        "id": "wEV6mQhUaSzn"
      },
      "execution_count": 9,
      "outputs": []
    },
    {
      "cell_type": "markdown",
      "source": [
        "##PyTorch model building essentials\n",
        "* torch.nn-contains all of the buildings for computational graphs(a neural networks can be considered a computational graphs)\n",
        "* torch.nn.Parameter-what parameters should or model try and learn ,often PyTorch layer from torch.nn will set these for us\n",
        "* torch.optim-this where the optimizers in PyTorch live,they will help with gradient descent\n",
        "* def forward()-All nn.Module subclasses require you to overwrite forward(),this method defines what happens in the forward computation"
      ],
      "metadata": {
        "id": "d3kGldLcfGML"
      }
    },
    {
      "cell_type": "markdown",
      "source": [
        "### Checking the content of out PyTorch model\n",
        "Now we've created a model,let's see what's inside...\n",
        "\n",
        "So we can check our model parameters or what's inside our model using .parameters()."
      ],
      "metadata": {
        "id": "VYBZHMtIiQ9S"
      }
    },
    {
      "cell_type": "code",
      "source": [
        "#Create a random seed\n",
        "torch.manual_seed(42)\n",
        "#Create an instance of the model(this is a subclass of nn.Module)\n",
        "model_0=LinearRegressionModel()\n",
        "#Check out the parameters\n",
        "list(model_0.parameters())\n"
      ],
      "metadata": {
        "colab": {
          "base_uri": "https://localhost:8080/"
        },
        "id": "G5SoTNDLiRfh",
        "outputId": "e06e5ebf-a092-41ef-f58f-bebbf430057f"
      },
      "execution_count": 13,
      "outputs": [
        {
          "output_type": "execute_result",
          "data": {
            "text/plain": [
              "[Parameter containing:\n",
              " tensor([0.3367], requires_grad=True),\n",
              " Parameter containing:\n",
              " tensor([0.1288], requires_grad=True)]"
            ]
          },
          "metadata": {},
          "execution_count": 13
        }
      ]
    },
    {
      "cell_type": "code",
      "source": [
        "#List named parameters\n",
        "model_0.state_dict()"
      ],
      "metadata": {
        "colab": {
          "base_uri": "https://localhost:8080/"
        },
        "id": "jH7vY3Kii3A8",
        "outputId": "0d8c917c-691a-4339-ff65-62d07f83f47f"
      },
      "execution_count": 15,
      "outputs": [
        {
          "output_type": "execute_result",
          "data": {
            "text/plain": [
              "OrderedDict([('weights', tensor([0.3367])), ('bias', tensor([0.1288]))])"
            ]
          },
          "metadata": {},
          "execution_count": 15
        }
      ]
    },
    {
      "cell_type": "code",
      "source": [
        "weight,bias"
      ],
      "metadata": {
        "colab": {
          "base_uri": "https://localhost:8080/"
        },
        "id": "ktwU7jLakLXm",
        "outputId": "246a622d-e1b8-4bad-d279-dfefc6ed302a"
      },
      "execution_count": 16,
      "outputs": [
        {
          "output_type": "execute_result",
          "data": {
            "text/plain": [
              "(0.7, 0.3)"
            ]
          },
          "metadata": {},
          "execution_count": 16
        }
      ]
    },
    {
      "cell_type": "markdown",
      "source": [
        "### Making predictions using 'torch.inference_mode()\n",
        "To check our model's predictive power ,let's see how well it predicts y_test based on x_test.\n",
        "\n",
        "When we pass data through our model,it's going to run it through the forward() method.\n"
      ],
      "metadata": {
        "id": "JWeQ5hZvlahe"
      }
    },
    {
      "cell_type": "code",
      "source": [
        "X_test,y_test"
      ],
      "metadata": {
        "colab": {
          "base_uri": "https://localhost:8080/"
        },
        "id": "WIl9NReAmiXq",
        "outputId": "0ad38726-7fd9-42dc-9e94-70890de7b771"
      },
      "execution_count": 19,
      "outputs": [
        {
          "output_type": "execute_result",
          "data": {
            "text/plain": [
              "(tensor([[0.8000],\n",
              "         [0.8200],\n",
              "         [0.8400],\n",
              "         [0.8600],\n",
              "         [0.8800],\n",
              "         [0.9000],\n",
              "         [0.9200],\n",
              "         [0.9400],\n",
              "         [0.9600],\n",
              "         [0.9800]]),\n",
              " tensor([[0.8600],\n",
              "         [0.8740],\n",
              "         [0.8880],\n",
              "         [0.9020],\n",
              "         [0.9160],\n",
              "         [0.9300],\n",
              "         [0.9440],\n",
              "         [0.9580],\n",
              "         [0.9720],\n",
              "         [0.9860]]))"
            ]
          },
          "metadata": {},
          "execution_count": 19
        }
      ]
    },
    {
      "cell_type": "code",
      "source": [
        "#Make predictions with model\n",
        "with torch.inference_mode():\n",
        "  y_preds=model_0(X_test)\n",
        " #You can also do something similar with torch.no_grad() , however,torch.inference_mode() is preferred\n",
        "with torch.no_grad():\n",
        "  y_preds=model_0(X_test)\n",
        "y_preds"
      ],
      "metadata": {
        "colab": {
          "base_uri": "https://localhost:8080/"
        },
        "id": "BfTQpNEKmAVp",
        "outputId": "fa5fff16-d233-4392-a4e4-a76f98df4c06"
      },
      "execution_count": 24,
      "outputs": [
        {
          "output_type": "execute_result",
          "data": {
            "text/plain": [
              "tensor([[0.3982],\n",
              "        [0.4049],\n",
              "        [0.4116],\n",
              "        [0.4184],\n",
              "        [0.4251],\n",
              "        [0.4318],\n",
              "        [0.4386],\n",
              "        [0.4453],\n",
              "        [0.4520],\n",
              "        [0.4588]])"
            ]
          },
          "metadata": {},
          "execution_count": 24
        }
      ]
    },
    {
      "cell_type": "code",
      "source": [
        "plot_predictions(predictions=y_preds)"
      ],
      "metadata": {
        "colab": {
          "base_uri": "https://localhost:8080/",
          "height": 599
        },
        "id": "JAVBRmXYmeFo",
        "outputId": "1c99a0e7-d96b-4a22-daf8-b3f945980e25"
      },
      "execution_count": 21,
      "outputs": [
        {
          "output_type": "display_data",
          "data": {
            "text/plain": [
              "<Figure size 1000x700 with 1 Axes>"
            ],
            "image/png": "[encoded data removed]"
          },
          "metadata": {}
        }
      ]
    },
    {
      "cell_type": "markdown",
      "source": [],
      "metadata": {
        "id": "W1YrNYkBu4Pj"
      }
    },
    {
      "cell_type": "markdown",
      "source": [
        "## 3.Train model\n",
        "the whole idea of training is for a model to move from some unkown parameters (these may be random) to some known parameters.\n",
        "\n",
        "Or in other words from a poor representation of data to a better representation of the data.\n",
        "\n",
        "One way to measure how poor or how wrong your model's prediction are is to use loss function(cost).\n",
        "\n",
        "Things we need to train:\n",
        "\n",
        "* Loss fucntion is a function to measure how wrong your model's prediction is from the idealoutputs,lower is better.\n",
        "\n",
        "* Optimizer takes into account the loss of a model and adjusts the model's parameters(eg:weight&bias) to improve the loss fucntion.\n",
        "\n",
        " * Inside the optimizer you'll often have to set two parameters:\n",
        "   * params-the model parameters you'd like to optimize,for example params=model_0.parameters().\n",
        "   * lr(learning rate)- the learning rate is a hyperparameter that defines how big/small the optimizer changes the parameters with each step(a small lr results in small changes,a large lr results in large changes)\n",
        "\n",
        "\n",
        "And specifically for PyTorch ,we need:\n",
        "* A training loop\n",
        "* A testing loop"
      ],
      "metadata": {
        "id": "ZUGeCPYvu6Mt"
      }
    },
    {
      "cell_type": "code",
      "source": [
        "list(model_0.parameters())"
      ],
      "metadata": {
        "colab": {
          "base_uri": "https://localhost:8080/"
        },
        "id": "Oz6_S9NRrMKN",
        "outputId": "5c283803-ac53-405e-8fdb-9f4d2424e53e"
      },
      "execution_count": 26,
      "outputs": [
        {
          "output_type": "execute_result",
          "data": {
            "text/plain": [
              "[Parameter containing:\n",
              " tensor([0.3367], requires_grad=True),\n",
              " Parameter containing:\n",
              " tensor([0.1288], requires_grad=True)]"
            ]
          },
          "metadata": {},
          "execution_count": 26
        }
      ]
    },
    {
      "cell_type": "code",
      "source": [
        "model_0.state_dict()"
      ],
      "metadata": {
        "colab": {
          "base_uri": "https://localhost:8080/"
        },
        "id": "NxN3A_J3xLEl",
        "outputId": "e4e5048a-2c47-48e6-8566-80b08aa7fefa"
      },
      "execution_count": 27,
      "outputs": [
        {
          "output_type": "execute_result",
          "data": {
            "text/plain": [
              "OrderedDict([('weights', tensor([0.3367])), ('bias', tensor([0.1288]))])"
            ]
          },
          "metadata": {},
          "execution_count": 27
        }
      ]
    },
    {
      "cell_type": "code",
      "source": [
        "# Setup a loss function\n",
        "loss_fn=nn.L1Loss()\n",
        "\n",
        "#Set an optimizer(stochastic gradient descent)\n",
        "optimizer=torch.optim.SGD(params=model_0.parameters(),lr=0.01)"
      ],
      "metadata": {
        "id": "-K2XuYE-xXKa"
      },
      "execution_count": 31,
      "outputs": []
    },
    {
      "cell_type": "markdown",
      "source": [
        "### Bilding a training loop (and a testing loop) in PyTorch\n",
        "\n",
        "A couple of things we need in a training loop:\n",
        "0. Loop throgh the data\n",
        "1. Forward pas(this involves data moving throughout mofrl's forward() functions)- to make predictions on data-also called forward propagation\n",
        "2. Calculate the loss( compare forward pass predictions to ground trth labels)\n",
        "3. Optimizer zero grad\n",
        "4. Loss backward - move backwards through the network to calculate the gradients of eeach of the parameters of our model with respect to the loss\n",
        "5. Optimizer step- use the optimizer to adjust our model's parameter to try and improve the loss(** gradient descent**)"
      ],
      "metadata": {
        "id": "f5fq8KilJ7Y8"
      }
    },
    {
      "cell_type": "code",
      "source": [
        "# An epoch is one loop through the data...(this is a hyper parameter because we've set )\n",
        "epochs=1\n",
        "\n",
        "### Training\n",
        "#0.Loop through the data\n",
        "for epoch in range (epochs):\n",
        "#Set the model to training mode\n",
        "  model_0.train()# train mode in pyTorch sets all parameters that require gradients\n",
        "# 1. Forward pass\n",
        "  y_pred=model_0(X_train)\n",
        "# 2. Calculate the loss\n",
        "loss = loss_fn(y_pred,y_train)\n",
        "# 3.Optimizer  zero grad\n",
        "optimizer.zero_grad()\n",
        "\n",
        "\n",
        "# 4. Perform backpropogation on the loss with respect to the parameters of the model\n",
        "loss.backward()\n",
        "\n",
        "#5. Step the optimizer (perform gradient descent)\n",
        "optimizer.step() #by default how the optimizer changes will accumulate through the loop so...we have to zero them above in step 3 for the next iteration of the loop\n",
        "\n",
        ""
      ],
      "metadata": {
        "id": "D-nPxUjpMkTx"
      },
      "execution_count": null,
      "outputs": []
    }
  ]
}